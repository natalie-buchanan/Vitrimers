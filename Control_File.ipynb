{
 "cells": [
  {
   "cell_type": "code",
   "execution_count": 1,
   "metadata": {},
   "outputs": [
    {
     "name": "stdout",
     "output_type": "stream",
     "text": [
      "I'm in\n"
     ]
    },
    {
     "ename": "ImportError",
     "evalue": "IProgress not found. Please update jupyter and ipywidgets. See https://ipywidgets.readthedocs.io/en/stable/user_install.html",
     "output_type": "error",
     "traceback": [
      "\u001b[1;31m---------------------------------------------------------------------------\u001b[0m",
      "\u001b[1;31mImportError\u001b[0m                               Traceback (most recent call last)",
      "Cell \u001b[1;32mIn[1], line 15\u001b[0m\n\u001b[0;32m     13\u001b[0m BeadData \u001b[38;5;241m=\u001b[39m create_atom_list(NodeData, FullEdges, LENGTH_OF_CHAIN)\n\u001b[0;32m     14\u001b[0m BondData \u001b[38;5;241m=\u001b[39m pd\u001b[38;5;241m.\u001b[39mDataFrame(columns\u001b[38;5;241m=\u001b[39m[\u001b[38;5;124m\"\u001b[39m\u001b[38;5;124mBondType\u001b[39m\u001b[38;5;124m\"\u001b[39m, \u001b[38;5;124m\"\u001b[39m\u001b[38;5;124mAtom1\u001b[39m\u001b[38;5;124m\"\u001b[39m, \u001b[38;5;124m\"\u001b[39m\u001b[38;5;124mAtom2\u001b[39m\u001b[38;5;124m\"\u001b[39m], dtype\u001b[38;5;241m=\u001b[39m\u001b[38;5;124m\"\u001b[39m\u001b[38;5;124mint\u001b[39m\u001b[38;5;124m\"\u001b[39m)\n\u001b[1;32m---> 15\u001b[0m BeadData, BondData, runInfo \u001b[38;5;241m=\u001b[39m \u001b[43mcreate_chain_parallel\u001b[49m\u001b[43m(\u001b[49m\u001b[43mFullEdges\u001b[49m\u001b[43m,\u001b[49m\u001b[43m \u001b[49m\u001b[43mBondData\u001b[49m\u001b[43m,\u001b[49m\u001b[43m \u001b[49m\u001b[43mBeadData\u001b[49m\u001b[43m,\u001b[49m\n\u001b[0;32m     16\u001b[0m \u001b[43m                                            \u001b[49m\u001b[43mNodeData\u001b[49m\u001b[43m,\u001b[49m\u001b[43m \u001b[49m\u001b[43mBOX_SIZE\u001b[49m\u001b[43m,\u001b[49m\u001b[43m \u001b[49m\u001b[43mLENGTH_OF_CHAIN\u001b[49m\u001b[43m,\u001b[49m\u001b[43m \u001b[49m\u001b[43mcpu_num\u001b[49m\u001b[43m)\u001b[49m\n\u001b[0;32m     17\u001b[0m write_lammps_data(STUDY_NAME, BeadData, BondData, BOX_SIZE)\n",
      "File \u001b[1;32mc:\\Users\\buchanne\\VitrimerCode\\Vitrimers\\beads_from_edge_3d.py:304\u001b[0m, in \u001b[0;36mcreate_chain_parallel\u001b[1;34m(full_edge_data, bond_data, bead_data, node_data, box_size, len_of_chain, num_processes)\u001b[0m\n\u001b[0;32m    300\u001b[0m \u001b[38;5;28mprint\u001b[39m(\u001b[38;5;124m\"\u001b[39m\u001b[38;5;124mI\u001b[39m\u001b[38;5;124m'\u001b[39m\u001b[38;5;124mm in\u001b[39m\u001b[38;5;124m\"\u001b[39m)\n\u001b[0;32m    301\u001b[0m \u001b[38;5;28;01mwith\u001b[39;00m multiprocessing\u001b[38;5;241m.\u001b[39mPool(processes\u001b[38;5;241m=\u001b[39mnum_processes) \u001b[38;5;28;01mas\u001b[39;00m pool:\n\u001b[0;32m    302\u001b[0m     \u001b[38;5;66;03m# results = pool.starmap(generate_and_update, [(edge, bond_data, bead_data, node_data, box_size, len_of_chain, i) \u001b[39;00m\n\u001b[0;32m    303\u001b[0m     \u001b[38;5;66;03m#                                              for i, edge in enumerate(full_edge_data)])\u001b[39;00m\n\u001b[1;32m--> 304\u001b[0m     results \u001b[38;5;241m=\u001b[39m \u001b[38;5;28mlist\u001b[39m(\u001b[43mtqdm\u001b[49m\u001b[43m(\u001b[49m\u001b[43mpool\u001b[49m\u001b[38;5;241;43m.\u001b[39;49m\u001b[43mimap_unordered\u001b[49m\u001b[43m(\u001b[49m\u001b[43mgenerate_and_update\u001b[49m\u001b[43m,\u001b[49m\u001b[43m \u001b[49m\n\u001b[0;32m    305\u001b[0m \u001b[43m                                            \u001b[49m\u001b[43m[\u001b[49m\u001b[43m(\u001b[49m\u001b[43medge\u001b[49m\u001b[43m,\u001b[49m\u001b[43m \u001b[49m\u001b[43mbond_data\u001b[49m\u001b[43m,\u001b[49m\u001b[43m \u001b[49m\u001b[43mbead_data\u001b[49m\u001b[43m,\u001b[49m\u001b[43m \u001b[49m\u001b[43mnode_data\u001b[49m\u001b[43m,\u001b[49m\u001b[43m \u001b[49m\u001b[43mbox_size\u001b[49m\u001b[43m,\u001b[49m\u001b[43m \u001b[49m\u001b[43mlen_of_chain\u001b[49m\u001b[43m,\u001b[49m\u001b[43m \u001b[49m\u001b[43mi\u001b[49m\u001b[43m)\u001b[49m\u001b[43m \u001b[49m\n\u001b[0;32m    306\u001b[0m \u001b[43m                                             \u001b[49m\u001b[38;5;28;43;01mfor\u001b[39;49;00m\u001b[43m \u001b[49m\u001b[43mi\u001b[49m\u001b[43m,\u001b[49m\u001b[43m \u001b[49m\u001b[43medge\u001b[49m\u001b[43m \u001b[49m\u001b[38;5;129;43;01min\u001b[39;49;00m\u001b[43m \u001b[49m\u001b[38;5;28;43menumerate\u001b[39;49m\u001b[43m(\u001b[49m\u001b[43mfull_edge_data\u001b[49m\u001b[43m)\u001b[49m\u001b[43m]\u001b[49m\u001b[43m)\u001b[49m\u001b[43m,\u001b[49m\u001b[43m \u001b[49m\n\u001b[0;32m    307\u001b[0m \u001b[43m                        \u001b[49m\u001b[43mtotal\u001b[49m\u001b[38;5;241;43m=\u001b[39;49m\u001b[38;5;28;43mlen\u001b[39;49m\u001b[43m(\u001b[49m\u001b[43mfull_edge_data\u001b[49m\u001b[43m)\u001b[49m\u001b[43m,\u001b[49m\u001b[43m \u001b[49m\n\u001b[0;32m    308\u001b[0m \u001b[43m                        \u001b[49m\u001b[43mdesc\u001b[49m\u001b[38;5;241;43m=\u001b[39;49m\u001b[38;5;124;43m\"\u001b[39;49m\u001b[38;5;124;43mGenerating Chains\u001b[39;49m\u001b[38;5;124;43m\"\u001b[39;49m\u001b[43m)\u001b[49m)\n\u001b[0;32m    310\u001b[0m \u001b[38;5;66;03m# Update bond_data and bead_data based on results\u001b[39;00m\n\u001b[0;32m    311\u001b[0m \u001b[38;5;28;01mfor\u001b[39;00m bead_data_updated, bond_data_updated, _, _ \u001b[38;5;129;01min\u001b[39;00m results:\n",
      "File \u001b[1;32mc:\\Miniforge\\envs\\Vitrimer_env\\Lib\\site-packages\\tqdm\\notebook.py:234\u001b[0m, in \u001b[0;36mtqdm_notebook.__init__\u001b[1;34m(self, *args, **kwargs)\u001b[0m\n\u001b[0;32m    232\u001b[0m unit_scale \u001b[38;5;241m=\u001b[39m \u001b[38;5;241m1\u001b[39m \u001b[38;5;28;01mif\u001b[39;00m \u001b[38;5;28mself\u001b[39m\u001b[38;5;241m.\u001b[39munit_scale \u001b[38;5;129;01mis\u001b[39;00m \u001b[38;5;28;01mTrue\u001b[39;00m \u001b[38;5;28;01melse\u001b[39;00m \u001b[38;5;28mself\u001b[39m\u001b[38;5;241m.\u001b[39munit_scale \u001b[38;5;129;01mor\u001b[39;00m \u001b[38;5;241m1\u001b[39m\n\u001b[0;32m    233\u001b[0m total \u001b[38;5;241m=\u001b[39m \u001b[38;5;28mself\u001b[39m\u001b[38;5;241m.\u001b[39mtotal \u001b[38;5;241m*\u001b[39m unit_scale \u001b[38;5;28;01mif\u001b[39;00m \u001b[38;5;28mself\u001b[39m\u001b[38;5;241m.\u001b[39mtotal \u001b[38;5;28;01melse\u001b[39;00m \u001b[38;5;28mself\u001b[39m\u001b[38;5;241m.\u001b[39mtotal\n\u001b[1;32m--> 234\u001b[0m \u001b[38;5;28mself\u001b[39m\u001b[38;5;241m.\u001b[39mcontainer \u001b[38;5;241m=\u001b[39m \u001b[38;5;28;43mself\u001b[39;49m\u001b[38;5;241;43m.\u001b[39;49m\u001b[43mstatus_printer\u001b[49m\u001b[43m(\u001b[49m\u001b[38;5;28;43mself\u001b[39;49m\u001b[38;5;241;43m.\u001b[39;49m\u001b[43mfp\u001b[49m\u001b[43m,\u001b[49m\u001b[43m \u001b[49m\u001b[43mtotal\u001b[49m\u001b[43m,\u001b[49m\u001b[43m \u001b[49m\u001b[38;5;28;43mself\u001b[39;49m\u001b[38;5;241;43m.\u001b[39;49m\u001b[43mdesc\u001b[49m\u001b[43m,\u001b[49m\u001b[43m \u001b[49m\u001b[38;5;28;43mself\u001b[39;49m\u001b[38;5;241;43m.\u001b[39;49m\u001b[43mncols\u001b[49m\u001b[43m)\u001b[49m\n\u001b[0;32m    235\u001b[0m \u001b[38;5;28mself\u001b[39m\u001b[38;5;241m.\u001b[39mcontainer\u001b[38;5;241m.\u001b[39mpbar \u001b[38;5;241m=\u001b[39m proxy(\u001b[38;5;28mself\u001b[39m)\n\u001b[0;32m    236\u001b[0m \u001b[38;5;28mself\u001b[39m\u001b[38;5;241m.\u001b[39mdisplayed \u001b[38;5;241m=\u001b[39m \u001b[38;5;28;01mFalse\u001b[39;00m\n",
      "File \u001b[1;32mc:\\Miniforge\\envs\\Vitrimer_env\\Lib\\site-packages\\tqdm\\notebook.py:108\u001b[0m, in \u001b[0;36mtqdm_notebook.status_printer\u001b[1;34m(_, total, desc, ncols)\u001b[0m\n\u001b[0;32m     99\u001b[0m \u001b[38;5;66;03m# Fallback to text bar if there's no total\u001b[39;00m\n\u001b[0;32m    100\u001b[0m \u001b[38;5;66;03m# DEPRECATED: replaced with an 'info' style bar\u001b[39;00m\n\u001b[0;32m    101\u001b[0m \u001b[38;5;66;03m# if not total:\u001b[39;00m\n\u001b[1;32m   (...)\u001b[0m\n\u001b[0;32m    105\u001b[0m \n\u001b[0;32m    106\u001b[0m \u001b[38;5;66;03m# Prepare IPython progress bar\u001b[39;00m\n\u001b[0;32m    107\u001b[0m \u001b[38;5;28;01mif\u001b[39;00m IProgress \u001b[38;5;129;01mis\u001b[39;00m \u001b[38;5;28;01mNone\u001b[39;00m:  \u001b[38;5;66;03m# #187 #451 #558 #872\u001b[39;00m\n\u001b[1;32m--> 108\u001b[0m     \u001b[38;5;28;01mraise\u001b[39;00m \u001b[38;5;167;01mImportError\u001b[39;00m(WARN_NOIPYW)\n\u001b[0;32m    109\u001b[0m \u001b[38;5;28;01mif\u001b[39;00m total:\n\u001b[0;32m    110\u001b[0m     pbar \u001b[38;5;241m=\u001b[39m IProgress(\u001b[38;5;28mmin\u001b[39m\u001b[38;5;241m=\u001b[39m\u001b[38;5;241m0\u001b[39m, \u001b[38;5;28mmax\u001b[39m\u001b[38;5;241m=\u001b[39mtotal)\n",
      "\u001b[1;31mImportError\u001b[0m: IProgress not found. Please update jupyter and ipywidgets. See https://ipywidgets.readthedocs.io/en/stable/user_install.html"
     ]
    }
   ],
   "source": [
    "import numpy as np\n",
    "import pandas as pd\n",
    "import multiprocessing\n",
    "from file_functions import load_files, write_lammps_data\n",
    "from beads_from_edge_3d import create_atom_list, create_chain_parallel\n",
    "\n",
    "STUDY_NAME = '20241120B1C1'\n",
    "COORDS = ['x', 'y', 'z']\n",
    "cpu_num = int(np.floor(multiprocessing.cpu_count()/2))\n",
    "\n",
    "[NodeData, Edges, PB_edges, BOX_SIZE, LENGTH_OF_CHAIN] = load_files(STUDY_NAME, COORDS)\n",
    "FullEdges = np.concatenate((Edges, PB_edges))\n",
    "BeadData = create_atom_list(NodeData, FullEdges, LENGTH_OF_CHAIN)\n",
    "BondData = pd.DataFrame(columns=[\"BondType\", \"Atom1\", \"Atom2\"], dtype=\"int\")\n",
    "BeadData, BondData, runInfo = create_chain_parallel(FullEdges, BondData, BeadData,\n",
    "                                            NodeData, BOX_SIZE, LENGTH_OF_CHAIN, cpu_num)\n",
    "write_lammps_data(STUDY_NAME, BeadData, BondData, BOX_SIZE)\n"
   ]
  },
  {
   "cell_type": "code",
   "execution_count": null,
   "metadata": {},
   "outputs": [
    {
     "data": {
      "text/plain": [
       "array([[56.2353827 , 17.70510707,  1.        ],\n",
       "       [92.12038532, 15.13577736,  1.        ],\n",
       "       [28.26016223, 39.05159587,  1.        ],\n",
       "       [85.8498365 , 88.2316419 ,  1.        ],\n",
       "       [91.12937551, 29.65631003,  1.        ],\n",
       "       [73.89356652, 51.26745138,  1.        ],\n",
       "       [40.21135022, 39.08428601,  1.        ],\n",
       "       [23.18961412, 32.2562669 ,  1.        ],\n",
       "       [64.15130546, 24.22718328,  1.        ],\n",
       "       [34.18866854, 18.30799989,  1.        ],\n",
       "       [59.22297034, 22.00301732,  1.        ],\n",
       "       [ 4.43029096, 66.26329678,  1.        ],\n",
       "       [68.53807184, 66.89903853,  1.        ],\n",
       "       [36.60811685, 76.50589196,  1.        ],\n",
       "       [75.26084138, 46.63629963,  1.        ],\n",
       "       [87.81956426, 36.71761899,  1.        ],\n",
       "       [61.06234263, 26.64192479,  1.        ],\n",
       "       [10.88576617, 49.22622321,  1.        ],\n",
       "       [32.30959593, 93.51140052,  1.        ],\n",
       "       [15.38079644, 49.80761491,  1.        ],\n",
       "       [84.04254106, 28.95306221,  1.        ],\n",
       "       [49.96083749, 34.67867025,  1.        ],\n",
       "       [39.70270369, 49.93725028,  1.        ],\n",
       "       [73.8165868 , 93.76205931,  1.        ],\n",
       "       [46.95768312, 85.1896421 ,  1.        ],\n",
       "       [20.12973061, 76.25518703,  1.        ],\n",
       "       [86.26221858, 72.1560988 ,  1.        ],\n",
       "       [71.57929732, 13.34501987,  1.        ],\n",
       "       [47.18124326, 77.25133894,  1.        ],\n",
       "       [18.25508549, 36.81895184,  1.        ],\n",
       "       [75.00331065, 61.71131205,  1.        ],\n",
       "       [74.78571508, 64.91118944,  1.        ],\n",
       "       [69.85364137, 54.755246  ,  1.        ],\n",
       "       [86.41765203, 18.81048798,  1.        ],\n",
       "       [58.71693691, 59.57807764,  1.        ],\n",
       "       [15.62241425, 33.42202244,  1.        ],\n",
       "       [83.18553339, 58.01103582,  1.        ],\n",
       "       [ 8.181801  , 47.55633976,  1.        ],\n",
       "       [31.39120262, 71.85029756,  1.        ],\n",
       "       [ 6.69120175, 41.31252544,  1.        ],\n",
       "       [29.18465216, 38.24573528,  1.        ],\n",
       "       [29.32682148, 63.48583555,  1.        ],\n",
       "       [57.52821216, 66.83632546,  1.        ],\n",
       "       [58.36759252, 62.41800343,  1.        ],\n",
       "       [ 5.80758468, 63.39461715,  1.        ],\n",
       "       [55.64657549, 76.77156866,  1.        ],\n",
       "       [64.48645805, 52.67648526,  1.        ],\n",
       "       [72.37720333, 55.54144707,  1.        ],\n",
       "       [43.07101393,  4.61460135,  1.        ],\n",
       "       [14.49676743, 78.07675731,  1.        ],\n",
       "       [61.93084202,  9.18520517,  1.        ],\n",
       "       [28.36756514, 61.49227338,  1.        ],\n",
       "       [48.33706027, 66.22624493,  1.        ],\n",
       "       [12.7666463 , 37.65586577,  1.        ],\n",
       "       [ 6.21193282, 14.47443479,  1.        ],\n",
       "       [ 9.23142498, 83.08199093,  1.        ],\n",
       "       [18.2530876 , 39.96301779,  1.        ],\n",
       "       [72.66373958, 23.50943496,  1.        ],\n",
       "       [74.20177503, 26.4226459 ,  1.        ],\n",
       "       [28.34689337, 42.04876948,  1.        ],\n",
       "       [59.93768857, 11.94308262,  1.        ],\n",
       "       [62.85396656, 63.84695862,  1.        ],\n",
       "       [41.54861615, 55.17920118,  1.        ],\n",
       "       [76.72870664, 58.6273368 ,  1.        ],\n",
       "       [62.84233981, 42.81426781,  1.        ],\n",
       "       [62.06164722, 20.83708007,  1.        ],\n",
       "       [76.43677388, 63.59401944,  1.        ],\n",
       "       [28.75124593, 53.29058203,  1.        ],\n",
       "       [20.47205077, 20.01729069,  1.        ],\n",
       "       [41.9092361 , 81.43639827,  1.        ],\n",
       "       [57.88856118, 63.24080948,  1.        ],\n",
       "       [13.41433393, 33.65774541,  1.        ],\n",
       "       [13.37450194, 69.59190159,  1.        ],\n",
       "       [20.54956357, 51.94240463,  1.        ],\n",
       "       [10.94455999,  7.57538236,  1.        ],\n",
       "       [79.83410469, 13.26518304,  1.        ],\n",
       "       [74.24076959, 14.11783989,  1.        ],\n",
       "       [53.52038719, 24.60954526,  1.        ],\n",
       "       [65.02752385, 11.47947493,  1.        ],\n",
       "       [22.5818942 , 36.69011808,  1.        ],\n",
       "       [72.25549618, 14.55356377,  1.        ],\n",
       "       [49.59979893, 17.53779419,  1.        ],\n",
       "       [64.39622477, 71.52258628,  1.        ],\n",
       "       [90.78766039, 31.4617694 ,  1.        ],\n",
       "       [93.39422875, 90.68726501,  1.        ],\n",
       "       [89.87515889, 77.02008236,  1.        ],\n",
       "       [12.48995557, 37.93448848,  1.        ],\n",
       "       [84.22277177, 34.92806616,  1.        ],\n",
       "       [58.53060111, 31.27923309,  1.        ],\n",
       "       [ 7.06738374, 73.5362319 ,  1.        ],\n",
       "       [ 3.83864301, 31.90057839,  1.        ],\n",
       "       [83.22420908, 39.49998014,  1.        ],\n",
       "       [21.7013244 , 70.43370095,  1.        ],\n",
       "       [91.07881571, 19.85103226,  1.        ],\n",
       "       [77.66956605,  3.55975076,  1.        ],\n",
       "       [53.16197792, 49.30014414,  1.        ],\n",
       "       [93.52218256, 12.55209714,  1.        ],\n",
       "       [85.41804007, 20.7774654 ,  1.        ],\n",
       "       [75.21316408, 38.32275294,  3.        ],\n",
       "       [86.31370996, 33.64963688,  3.        ],\n",
       "       [37.15860397, 36.34002906,  3.        ],\n",
       "       [17.48512501, 41.1570141 ,  3.        ],\n",
       "       [41.41330357, 20.21633151,  3.        ],\n",
       "       [20.32934742, 77.71588746,  3.        ]])"
      ]
     },
     "execution_count": 4,
     "metadata": {},
     "output_type": "execute_result"
    }
   ],
   "source": [
    "from beads_from_edge_3d import load_files\n",
    "\n",
    "STUDY_NAME = '20241016A1C1'\n",
    "COORDS = ['x', 'y']\n",
    "[NodeData, Edges, PB_edges, BOX_SIZE, LENGTH_OF_CHAIN] = load_files(STUDY_NAME, COORDS)"
   ]
  },
  {
   "cell_type": "markdown",
   "metadata": {},
   "source": [
    "## Test Zone"
   ]
  },
  {
   "cell_type": "code",
   "execution_count": 5,
   "metadata": {},
   "outputs": [
    {
     "name": "stdout",
     "output_type": "stream",
     "text": [
      "odd\n"
     ]
    }
   ],
   "source": [
    "import numpy as np\n",
    "\n",
    "BOX_SIZE = 10\n",
    "start = np.asarray([1, 3, 9])\n",
    "end = np.asarray([2, 5, 2])\n",
    "\n",
    "if 9%2:\n",
    "    print('odd')\n",
    "else:\n",
    "    print('even')"
   ]
  },
  {
   "cell_type": "code",
   "execution_count": null,
   "metadata": {},
   "outputs": [],
   "source": []
  }
 ],
 "metadata": {
  "kernelspec": {
   "display_name": "Vitrimer_env",
   "language": "python",
   "name": "python3"
  },
  "language_info": {
   "codemirror_mode": {
    "name": "ipython",
    "version": 3
   },
   "file_extension": ".py",
   "mimetype": "text/x-python",
   "name": "python",
   "nbconvert_exporter": "python",
   "pygments_lexer": "ipython3",
   "version": "3.13.0"
  }
 },
 "nbformat": 4,
 "nbformat_minor": 2
}
