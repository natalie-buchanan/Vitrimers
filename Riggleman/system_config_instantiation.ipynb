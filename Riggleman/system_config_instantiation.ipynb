{
 "cells": [
  {
   "cell_type": "code",
   "execution_count": 1,
   "metadata": {},
   "outputs": [],
   "source": [
    "from system_config_functions import write_system_config\n",
    "import sys"
   ]
  },
  {
   "cell_type": "code",
   "execution_count": 2,
   "metadata": {},
   "outputs": [],
   "source": [
    "\"System parameters: Networks with 1:1 stoichiometry between reactive groups\"\n",
    "\n",
    "nu_list = [5] # Number of segments per polymer chain\n",
    "phi_list = [0.25] # Mole fraction of polymer particles (segments plus cross-linkers) in melt\n",
    "num_nu_list = [80000, 10000] # Number of polymer segments\n",
    "config_list = ['001', '002'] # List of system configuration identifiers\n",
    "\n",
    "f = 4 # Functionality of cross-linkers\n",
    "b = 1.0 # Kuhn length\n",
    "\n",
    "if len(config_list) != len(nu_list) * len(phi_list) * len(num_nu_list):\n",
    "    sys.exit(\"The explicit number of system configurations identifiers must equal the total number of system configurations.\")\n",
    "\n",
    "config_indx = 0\n",
    "\n",
    "for nu in nu_list:\n",
    "    for phi in phi_list:\n",
    "        for num_nu in num_nu_list:\n",
    "            num_clinkr = int(num_nu / (2 * nu)) # Number of cross-linkers if stoichiometric ratio = 1.0\n",
    "            num_plymr_prtcl = num_nu + num_clinkr # Number of polymer particles (segments plus cross-linkers)\n",
    "            num_systm_prtcl = int(num_plymr_prtcl / phi) # Number of system particles\n",
    "\n",
    "            filename = \"./system-configurations/\" + config_list[config_indx] + \".config\"\n",
    "            \n",
    "            write_system_config(filename, nu, phi, num_nu, f, b, excess_linker=1.0)\n",
    "\n",
    "            config_indx += 1"
   ]
  }
 ],
 "metadata": {
  "kernelspec": {
   "display_name": "Python 3.9.13 ('Network_analysis')",
   "language": "python",
   "name": "python3"
  },
  "language_info": {
   "codemirror_mode": {
    "name": "ipython",
    "version": 3
   },
   "file_extension": ".py",
   "mimetype": "text/x-python",
   "name": "python",
   "nbconvert_exporter": "python",
   "pygments_lexer": "ipython3",
   "version": "3.9.13"
  },
  "orig_nbformat": 4,
  "vscode": {
   "interpreter": {
    "hash": "28a38de1a267c52f83fbed9038fd160d18c15c246a61942010b2a2bd758c2b15"
   }
  }
 },
 "nbformat": 4,
 "nbformat_minor": 2
}
